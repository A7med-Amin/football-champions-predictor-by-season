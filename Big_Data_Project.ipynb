{
  "cells": [
    {
      "cell_type": "markdown",
      "metadata": {
        "id": "d9C6tqcu3mdj"
      },
      "source": [
        "## Import Libraries\n"
      ]
    },
    {
      "cell_type": "code",
      "execution_count": 5,
      "metadata": {
        "id": "m6Qw4Pvu3pQe"
      },
      "outputs": [],
      "source": [
        "from pyspark import SparkContext\n",
        "import numpy as np\n",
        "import pandas as pd\n",
        "import matplotlib.pyplot as plt\n",
        "import warnings\n",
        "import pandas as pd\n",
        "from sklearn.model_selection import GridSearchCV\n",
        "from sklearn.linear_model import LogisticRegression\n",
        "from sklearn.feature_selection import mutual_info_regression\n",
        "from imblearn.over_sampling import SMOTE\n",
        "from sklearn.model_selection import train_test_split\n",
        "from sklearn.metrics import classification_report, ConfusionMatrixDisplay, RocCurveDisplay, confusion_matrix, roc_curve\n",
        "import matplotlib.pyplot as plt\n",
        "from sklearn.model_selection import cross_val_score\n",
        "from sklearn.linear_model import LogisticRegression"
      ]
    },
    {
      "cell_type": "markdown",
      "metadata": {
        "id": "GyhzQHgZ3qGV"
      },
      "source": [
        "## Load data"
      ]
    },
    {
      "cell_type": "code",
      "execution_count": 6,
      "metadata": {
        "colab": {
          "base_uri": "https://localhost:8080/"
        },
        "id": "81BA8n-W3t7j",
        "outputId": "81ae4231-b6c6-46da-a910-0cfbfb545bb6"
      },
      "outputs": [],
      "source": [
        "df = pd.read_csv('games.csv')\n",
        "df['season'] = df['season'].astype(int)\n",
        "df['home_club_id'] = df['home_club_id'].astype(int)"
      ]
    },
    {
      "cell_type": "markdown",
      "metadata": {
        "id": "ZKFFY3jUTo3B"
      },
      "source": [
        "## Filtering Data"
      ]
    },
    {
      "cell_type": "code",
      "execution_count": 7,
      "metadata": {
        "colab": {
          "base_uri": "https://localhost:8080/"
        },
        "id": "Fms-kI7UTn56",
        "outputId": "527bff83-20f9-4056-9f31-52af6500f9d7"
      },
      "outputs": [],
      "source": [
        "df=df[df['competition_id'].isin(['L1', 'NL1', 'ES1', 'PO1', 'FR1', 'GB1', 'IT1', 'TR1'])]"
      ]
    },
    {
      "cell_type": "markdown",
      "metadata": {
        "id": "PZjYJzOi3yYw"
      },
      "source": [
        "## Data Preparation"
      ]
    },
    {
      "cell_type": "code",
      "execution_count": 8,
      "metadata": {
        "colab": {
          "base_uri": "https://localhost:8080/",
          "height": 140
        },
        "id": "8ePI6EwS30on",
        "outputId": "82e097c4-f95c-412b-b8e8-8a32577b38cc"
      },
      "outputs": [],
      "source": [
        "\n",
        "home_club_goals = df.groupby(['home_club_id', 'season', 'competition_id']).agg(\n",
        "    Total_Home_Club_Goals=('home_club_goals', 'sum'),\n",
        "    Total_Away_Club_Goals=('away_club_goals', 'sum')\n",
        ").reset_index()\n",
        "\n",
        "away_club_goals = df.groupby(['away_club_id', 'season', 'competition_id']).agg(\n",
        "    Total_Home_Club_Goals=('home_club_goals', 'sum'),\n",
        "    Total_Away_Club_Goals=('away_club_goals', 'sum')\n",
        ").reset_index()\n",
        "\n",
        "\n",
        "merged_goals = pd.merge(home_club_goals, away_club_goals, left_on=['home_club_id', 'competition_id', 'season'], right_on=['away_club_id', 'competition_id', 'season'], how='outer').fillna(0)\n",
        "merged_goals['club_id'] = merged_goals['home_club_id'].combine_first(merged_goals['away_club_id'])\n",
        "merged_goals.drop(['home_club_id', 'away_club_id'], axis=1, inplace=True)\n",
        "\n",
        "total_home_goals = merged_goals.groupby(['club_id','season', 'competition_id']).agg({'Total_Home_Club_Goals_x': 'sum', 'Total_Away_Club_Goals_y': 'sum'}).reset_index()\n",
        "total_away_goals = merged_goals.groupby(['club_id','season', 'competition_id']).agg({'Total_Home_Club_Goals_y': 'sum', 'Total_Away_Club_Goals_x': 'sum'}).reset_index()\n",
        "\n",
        "\n",
        "total_home_goals['GS'] = total_home_goals['Total_Home_Club_Goals_x'] + total_home_goals['Total_Away_Club_Goals_y']\n",
        "total_home_goals.drop(['Total_Home_Club_Goals_x', 'Total_Away_Club_Goals_y'], axis=1, inplace=True)\n",
        "\n",
        "total_away_goals['GC'] = total_away_goals['Total_Home_Club_Goals_y'] + total_away_goals['Total_Away_Club_Goals_x']\n",
        "total_away_goals.drop(['Total_Home_Club_Goals_y', 'Total_Away_Club_Goals_x'], axis=1, inplace=True)\n",
        "\n",
        "total_goals_info = pd.merge(total_home_goals , total_away_goals, on = ['club_id', 'competition_id', 'season'])\n",
        "total_goals_info['club_id'] = total_goals_info['club_id'].astype(int)\n",
        "total_goals_info['GC'] = total_goals_info['GC'].astype(int)\n",
        "total_goals_info['GS'] = total_goals_info['GS'].astype(int)\n",
        "total_goals_info['GD'] = total_goals_info['GS'] - total_goals_info['GC']\n",
        "\n",
        "goals_for_home = df.groupby(['home_club_id', 'competition_id', 'season'])['home_club_goals'].agg(list).reset_index()\n",
        "goals_against_home = df.groupby(['home_club_id', 'competition_id', 'season'])['away_club_goals'].agg(list).reset_index()\n",
        "\n",
        "goals_against_away = df.groupby(['away_club_id', 'competition_id', 'season'])['home_club_goals'].agg(list).reset_index()\n",
        "goals_for_away = df.groupby(['away_club_id', 'competition_id', 'season'])['away_club_goals'].agg(list).reset_index()"
      ]
    },
    {
      "cell_type": "code",
      "execution_count": 9,
      "metadata": {
        "colab": {
          "base_uri": "https://localhost:8080/"
        },
        "id": "Ggi55KC7WJlB",
        "outputId": "1bdcb187-24dc-412f-cce0-ea4026d2259b"
      },
      "outputs": [
        {
          "ename": "Py4JJavaError",
          "evalue": "An error occurred while calling z:org.apache.spark.api.python.PythonRDD.collectAndServe.\n: org.apache.spark.SparkException: Job aborted due to stage failure: Task 0 in stage 0.0 failed 1 times, most recent failure: Lost task 0.0 in stage 0.0 (TID 0) (LAPTOP-NS5CK02S executor driver): org.apache.spark.api.python.PythonException: Traceback (most recent call last):\n  File \"C:\\Program Files\\spark_unzipped\\spark-3.5.1-bin-hadoop3\\python\\lib\\pyspark.zip\\pyspark\\worker.py\", line 1100, in main\npyspark.errors.exceptions.base.PySparkRuntimeError: [PYTHON_VERSION_MISMATCH] Python in worker has different version (3, 10) than that in driver 3.9, PySpark cannot run with different minor versions.\nPlease check environment variables PYSPARK_PYTHON and PYSPARK_DRIVER_PYTHON are correctly set.\n\r\n\tat org.apache.spark.api.python.BasePythonRunner$ReaderIterator.handlePythonException(PythonRunner.scala:572)\r\n\tat org.apache.spark.api.python.PythonRunner$$anon$3.read(PythonRunner.scala:784)\r\n\tat org.apache.spark.api.python.PythonRunner$$anon$3.read(PythonRunner.scala:766)\r\n\tat org.apache.spark.api.python.BasePythonRunner$ReaderIterator.hasNext(PythonRunner.scala:525)\r\n\tat org.apache.spark.InterruptibleIterator.hasNext(InterruptibleIterator.scala:37)\r\n\tat scala.collection.Iterator$GroupedIterator.fill(Iterator.scala:1211)\r\n\tat scala.collection.Iterator$GroupedIterator.hasNext(Iterator.scala:1217)\r\n\tat scala.collection.Iterator$$anon$10.hasNext(Iterator.scala:460)\r\n\tat org.apache.spark.shuffle.sort.BypassMergeSortShuffleWriter.write(BypassMergeSortShuffleWriter.java:140)\r\n\tat org.apache.spark.shuffle.ShuffleWriteProcessor.write(ShuffleWriteProcessor.scala:59)\r\n\tat org.apache.spark.scheduler.ShuffleMapTask.runTask(ShuffleMapTask.scala:104)\r\n\tat org.apache.spark.scheduler.ShuffleMapTask.runTask(ShuffleMapTask.scala:54)\r\n\tat org.apache.spark.TaskContext.runTaskWithListeners(TaskContext.scala:166)\r\n\tat org.apache.spark.scheduler.Task.run(Task.scala:141)\r\n\tat org.apache.spark.executor.Executor$TaskRunner.$anonfun$run$4(Executor.scala:620)\r\n\tat org.apache.spark.util.SparkErrorUtils.tryWithSafeFinally(SparkErrorUtils.scala:64)\r\n\tat org.apache.spark.util.SparkErrorUtils.tryWithSafeFinally$(SparkErrorUtils.scala:61)\r\n\tat org.apache.spark.util.Utils$.tryWithSafeFinally(Utils.scala:94)\r\n\tat org.apache.spark.executor.Executor$TaskRunner.run(Executor.scala:623)\r\n\tat java.base/java.util.concurrent.ThreadPoolExecutor.runWorker(ThreadPoolExecutor.java:1136)\r\n\tat java.base/java.util.concurrent.ThreadPoolExecutor$Worker.run(ThreadPoolExecutor.java:635)\r\n\tat java.base/java.lang.Thread.run(Thread.java:842)\r\n\nDriver stacktrace:\r\n\tat org.apache.spark.scheduler.DAGScheduler.failJobAndIndependentStages(DAGScheduler.scala:2856)\r\n\tat org.apache.spark.scheduler.DAGScheduler.$anonfun$abortStage$2(DAGScheduler.scala:2792)\r\n\tat org.apache.spark.scheduler.DAGScheduler.$anonfun$abortStage$2$adapted(DAGScheduler.scala:2791)\r\n\tat scala.collection.mutable.ResizableArray.foreach(ResizableArray.scala:62)\r\n\tat scala.collection.mutable.ResizableArray.foreach$(ResizableArray.scala:55)\r\n\tat scala.collection.mutable.ArrayBuffer.foreach(ArrayBuffer.scala:49)\r\n\tat org.apache.spark.scheduler.DAGScheduler.abortStage(DAGScheduler.scala:2791)\r\n\tat org.apache.spark.scheduler.DAGScheduler.$anonfun$handleTaskSetFailed$1(DAGScheduler.scala:1247)\r\n\tat org.apache.spark.scheduler.DAGScheduler.$anonfun$handleTaskSetFailed$1$adapted(DAGScheduler.scala:1247)\r\n\tat scala.Option.foreach(Option.scala:407)\r\n\tat org.apache.spark.scheduler.DAGScheduler.handleTaskSetFailed(DAGScheduler.scala:1247)\r\n\tat org.apache.spark.scheduler.DAGSchedulerEventProcessLoop.doOnReceive(DAGScheduler.scala:3060)\r\n\tat org.apache.spark.scheduler.DAGSchedulerEventProcessLoop.onReceive(DAGScheduler.scala:2994)\r\n\tat org.apache.spark.scheduler.DAGSchedulerEventProcessLoop.onReceive(DAGScheduler.scala:2983)\r\n\tat org.apache.spark.util.EventLoop$$anon$1.run(EventLoop.scala:49)\r\n\tat org.apache.spark.scheduler.DAGScheduler.runJob(DAGScheduler.scala:989)\r\n\tat org.apache.spark.SparkContext.runJob(SparkContext.scala:2398)\r\n\tat org.apache.spark.SparkContext.runJob(SparkContext.scala:2419)\r\n\tat org.apache.spark.SparkContext.runJob(SparkContext.scala:2438)\r\n\tat org.apache.spark.SparkContext.runJob(SparkContext.scala:2463)\r\n\tat org.apache.spark.rdd.RDD.$anonfun$collect$1(RDD.scala:1049)\r\n\tat org.apache.spark.rdd.RDDOperationScope$.withScope(RDDOperationScope.scala:151)\r\n\tat org.apache.spark.rdd.RDDOperationScope$.withScope(RDDOperationScope.scala:112)\r\n\tat org.apache.spark.rdd.RDD.withScope(RDD.scala:410)\r\n\tat org.apache.spark.rdd.RDD.collect(RDD.scala:1048)\r\n\tat org.apache.spark.api.python.PythonRDD$.collectAndServe(PythonRDD.scala:195)\r\n\tat org.apache.spark.api.python.PythonRDD.collectAndServe(PythonRDD.scala)\r\n\tat java.base/jdk.internal.reflect.NativeMethodAccessorImpl.invoke0(Native Method)\r\n\tat java.base/jdk.internal.reflect.NativeMethodAccessorImpl.invoke(NativeMethodAccessorImpl.java:77)\r\n\tat java.base/jdk.internal.reflect.DelegatingMethodAccessorImpl.invoke(DelegatingMethodAccessorImpl.java:43)\r\n\tat java.base/java.lang.reflect.Method.invoke(Method.java:568)\r\n\tat py4j.reflection.MethodInvoker.invoke(MethodInvoker.java:244)\r\n\tat py4j.reflection.ReflectionEngine.invoke(ReflectionEngine.java:374)\r\n\tat py4j.Gateway.invoke(Gateway.java:282)\r\n\tat py4j.commands.AbstractCommand.invokeMethod(AbstractCommand.java:132)\r\n\tat py4j.commands.CallCommand.execute(CallCommand.java:79)\r\n\tat py4j.ClientServerConnection.waitForCommands(ClientServerConnection.java:182)\r\n\tat py4j.ClientServerConnection.run(ClientServerConnection.java:106)\r\n\tat java.base/java.lang.Thread.run(Thread.java:842)\r\nCaused by: org.apache.spark.api.python.PythonException: Traceback (most recent call last):\n  File \"C:\\Program Files\\spark_unzipped\\spark-3.5.1-bin-hadoop3\\python\\lib\\pyspark.zip\\pyspark\\worker.py\", line 1100, in main\npyspark.errors.exceptions.base.PySparkRuntimeError: [PYTHON_VERSION_MISMATCH] Python in worker has different version (3, 10) than that in driver 3.9, PySpark cannot run with different minor versions.\nPlease check environment variables PYSPARK_PYTHON and PYSPARK_DRIVER_PYTHON are correctly set.\n\r\n\tat org.apache.spark.api.python.BasePythonRunner$ReaderIterator.handlePythonException(PythonRunner.scala:572)\r\n\tat org.apache.spark.api.python.PythonRunner$$anon$3.read(PythonRunner.scala:784)\r\n\tat org.apache.spark.api.python.PythonRunner$$anon$3.read(PythonRunner.scala:766)\r\n\tat org.apache.spark.api.python.BasePythonRunner$ReaderIterator.hasNext(PythonRunner.scala:525)\r\n\tat org.apache.spark.InterruptibleIterator.hasNext(InterruptibleIterator.scala:37)\r\n\tat scala.collection.Iterator$GroupedIterator.fill(Iterator.scala:1211)\r\n\tat scala.collection.Iterator$GroupedIterator.hasNext(Iterator.scala:1217)\r\n\tat scala.collection.Iterator$$anon$10.hasNext(Iterator.scala:460)\r\n\tat org.apache.spark.shuffle.sort.BypassMergeSortShuffleWriter.write(BypassMergeSortShuffleWriter.java:140)\r\n\tat org.apache.spark.shuffle.ShuffleWriteProcessor.write(ShuffleWriteProcessor.scala:59)\r\n\tat org.apache.spark.scheduler.ShuffleMapTask.runTask(ShuffleMapTask.scala:104)\r\n\tat org.apache.spark.scheduler.ShuffleMapTask.runTask(ShuffleMapTask.scala:54)\r\n\tat org.apache.spark.TaskContext.runTaskWithListeners(TaskContext.scala:166)\r\n\tat org.apache.spark.scheduler.Task.run(Task.scala:141)\r\n\tat org.apache.spark.executor.Executor$TaskRunner.$anonfun$run$4(Executor.scala:620)\r\n\tat org.apache.spark.util.SparkErrorUtils.tryWithSafeFinally(SparkErrorUtils.scala:64)\r\n\tat org.apache.spark.util.SparkErrorUtils.tryWithSafeFinally$(SparkErrorUtils.scala:61)\r\n\tat org.apache.spark.util.Utils$.tryWithSafeFinally(Utils.scala:94)\r\n\tat org.apache.spark.executor.Executor$TaskRunner.run(Executor.scala:623)\r\n\tat java.base/java.util.concurrent.ThreadPoolExecutor.runWorker(ThreadPoolExecutor.java:1136)\r\n\tat java.base/java.util.concurrent.ThreadPoolExecutor$Worker.run(ThreadPoolExecutor.java:635)\r\n\t... 1 more\r\n",
          "output_type": "error",
          "traceback": [
            "\u001b[1;31m---------------------------------------------------------------------------\u001b[0m",
            "\u001b[1;31mPy4JJavaError\u001b[0m                             Traceback (most recent call last)",
            "Cell \u001b[1;32mIn[9], line 49\u001b[0m\n\u001b[0;32m     46\u001b[0m final_results \u001b[38;5;241m=\u001b[39m reduced_home\u001b[38;5;241m.\u001b[39munion(reduced_away)\u001b[38;5;241m.\u001b[39mreduceByKey(reduce_results)\n\u001b[0;32m     48\u001b[0m \u001b[38;5;66;03m# Collecting the results to the driver to see the output\u001b[39;00m\n\u001b[1;32m---> 49\u001b[0m results \u001b[38;5;241m=\u001b[39m \u001b[43mfinal_results\u001b[49m\u001b[38;5;241;43m.\u001b[39;49m\u001b[43mcollect\u001b[49m\u001b[43m(\u001b[49m\u001b[43m)\u001b[49m\n\u001b[0;32m     51\u001b[0m \u001b[38;5;66;03m# Populating dictionary after collecting results\u001b[39;00m\n\u001b[0;32m     52\u001b[0m team_win_lose \u001b[38;5;241m=\u001b[39m {}\n",
            "File \u001b[1;32mc:\\Users\\Ahmed\\anaconda3\\lib\\site-packages\\pyspark\\rdd.py:1833\u001b[0m, in \u001b[0;36mRDD.collect\u001b[1;34m(self)\u001b[0m\n\u001b[0;32m   1831\u001b[0m \u001b[38;5;28;01mwith\u001b[39;00m SCCallSiteSync(\u001b[38;5;28mself\u001b[39m\u001b[38;5;241m.\u001b[39mcontext):\n\u001b[0;32m   1832\u001b[0m     \u001b[38;5;28;01massert\u001b[39;00m \u001b[38;5;28mself\u001b[39m\u001b[38;5;241m.\u001b[39mctx\u001b[38;5;241m.\u001b[39m_jvm \u001b[38;5;129;01mis\u001b[39;00m \u001b[38;5;129;01mnot\u001b[39;00m \u001b[38;5;28;01mNone\u001b[39;00m\n\u001b[1;32m-> 1833\u001b[0m     sock_info \u001b[38;5;241m=\u001b[39m \u001b[38;5;28;43mself\u001b[39;49m\u001b[38;5;241;43m.\u001b[39;49m\u001b[43mctx\u001b[49m\u001b[38;5;241;43m.\u001b[39;49m\u001b[43m_jvm\u001b[49m\u001b[38;5;241;43m.\u001b[39;49m\u001b[43mPythonRDD\u001b[49m\u001b[38;5;241;43m.\u001b[39;49m\u001b[43mcollectAndServe\u001b[49m\u001b[43m(\u001b[49m\u001b[38;5;28;43mself\u001b[39;49m\u001b[38;5;241;43m.\u001b[39;49m\u001b[43m_jrdd\u001b[49m\u001b[38;5;241;43m.\u001b[39;49m\u001b[43mrdd\u001b[49m\u001b[43m(\u001b[49m\u001b[43m)\u001b[49m\u001b[43m)\u001b[49m\n\u001b[0;32m   1834\u001b[0m \u001b[38;5;28;01mreturn\u001b[39;00m \u001b[38;5;28mlist\u001b[39m(_load_from_socket(sock_info, \u001b[38;5;28mself\u001b[39m\u001b[38;5;241m.\u001b[39m_jrdd_deserializer))\n",
            "File \u001b[1;32mc:\\Users\\Ahmed\\anaconda3\\lib\\site-packages\\py4j\\java_gateway.py:1322\u001b[0m, in \u001b[0;36mJavaMember.__call__\u001b[1;34m(self, *args)\u001b[0m\n\u001b[0;32m   1316\u001b[0m command \u001b[38;5;241m=\u001b[39m proto\u001b[38;5;241m.\u001b[39mCALL_COMMAND_NAME \u001b[38;5;241m+\u001b[39m\\\n\u001b[0;32m   1317\u001b[0m     \u001b[38;5;28mself\u001b[39m\u001b[38;5;241m.\u001b[39mcommand_header \u001b[38;5;241m+\u001b[39m\\\n\u001b[0;32m   1318\u001b[0m     args_command \u001b[38;5;241m+\u001b[39m\\\n\u001b[0;32m   1319\u001b[0m     proto\u001b[38;5;241m.\u001b[39mEND_COMMAND_PART\n\u001b[0;32m   1321\u001b[0m answer \u001b[38;5;241m=\u001b[39m \u001b[38;5;28mself\u001b[39m\u001b[38;5;241m.\u001b[39mgateway_client\u001b[38;5;241m.\u001b[39msend_command(command)\n\u001b[1;32m-> 1322\u001b[0m return_value \u001b[38;5;241m=\u001b[39m \u001b[43mget_return_value\u001b[49m\u001b[43m(\u001b[49m\n\u001b[0;32m   1323\u001b[0m \u001b[43m    \u001b[49m\u001b[43manswer\u001b[49m\u001b[43m,\u001b[49m\u001b[43m \u001b[49m\u001b[38;5;28;43mself\u001b[39;49m\u001b[38;5;241;43m.\u001b[39;49m\u001b[43mgateway_client\u001b[49m\u001b[43m,\u001b[49m\u001b[43m \u001b[49m\u001b[38;5;28;43mself\u001b[39;49m\u001b[38;5;241;43m.\u001b[39;49m\u001b[43mtarget_id\u001b[49m\u001b[43m,\u001b[49m\u001b[43m \u001b[49m\u001b[38;5;28;43mself\u001b[39;49m\u001b[38;5;241;43m.\u001b[39;49m\u001b[43mname\u001b[49m\u001b[43m)\u001b[49m\n\u001b[0;32m   1325\u001b[0m \u001b[38;5;28;01mfor\u001b[39;00m temp_arg \u001b[38;5;129;01min\u001b[39;00m temp_args:\n\u001b[0;32m   1326\u001b[0m     \u001b[38;5;28;01mif\u001b[39;00m \u001b[38;5;28mhasattr\u001b[39m(temp_arg, \u001b[38;5;124m\"\u001b[39m\u001b[38;5;124m_detach\u001b[39m\u001b[38;5;124m\"\u001b[39m):\n",
            "File \u001b[1;32mc:\\Users\\Ahmed\\anaconda3\\lib\\site-packages\\py4j\\protocol.py:326\u001b[0m, in \u001b[0;36mget_return_value\u001b[1;34m(answer, gateway_client, target_id, name)\u001b[0m\n\u001b[0;32m    324\u001b[0m value \u001b[38;5;241m=\u001b[39m OUTPUT_CONVERTER[\u001b[38;5;28mtype\u001b[39m](answer[\u001b[38;5;241m2\u001b[39m:], gateway_client)\n\u001b[0;32m    325\u001b[0m \u001b[38;5;28;01mif\u001b[39;00m answer[\u001b[38;5;241m1\u001b[39m] \u001b[38;5;241m==\u001b[39m REFERENCE_TYPE:\n\u001b[1;32m--> 326\u001b[0m     \u001b[38;5;28;01mraise\u001b[39;00m Py4JJavaError(\n\u001b[0;32m    327\u001b[0m         \u001b[38;5;124m\"\u001b[39m\u001b[38;5;124mAn error occurred while calling \u001b[39m\u001b[38;5;132;01m{0}\u001b[39;00m\u001b[38;5;132;01m{1}\u001b[39;00m\u001b[38;5;132;01m{2}\u001b[39;00m\u001b[38;5;124m.\u001b[39m\u001b[38;5;130;01m\\n\u001b[39;00m\u001b[38;5;124m\"\u001b[39m\u001b[38;5;241m.\u001b[39m\n\u001b[0;32m    328\u001b[0m         \u001b[38;5;28mformat\u001b[39m(target_id, \u001b[38;5;124m\"\u001b[39m\u001b[38;5;124m.\u001b[39m\u001b[38;5;124m\"\u001b[39m, name), value)\n\u001b[0;32m    329\u001b[0m \u001b[38;5;28;01melse\u001b[39;00m:\n\u001b[0;32m    330\u001b[0m     \u001b[38;5;28;01mraise\u001b[39;00m Py4JError(\n\u001b[0;32m    331\u001b[0m         \u001b[38;5;124m\"\u001b[39m\u001b[38;5;124mAn error occurred while calling \u001b[39m\u001b[38;5;132;01m{0}\u001b[39;00m\u001b[38;5;132;01m{1}\u001b[39;00m\u001b[38;5;132;01m{2}\u001b[39;00m\u001b[38;5;124m. Trace:\u001b[39m\u001b[38;5;130;01m\\n\u001b[39;00m\u001b[38;5;132;01m{3}\u001b[39;00m\u001b[38;5;130;01m\\n\u001b[39;00m\u001b[38;5;124m\"\u001b[39m\u001b[38;5;241m.\u001b[39m\n\u001b[0;32m    332\u001b[0m         \u001b[38;5;28mformat\u001b[39m(target_id, \u001b[38;5;124m\"\u001b[39m\u001b[38;5;124m.\u001b[39m\u001b[38;5;124m\"\u001b[39m, name, value))\n",
            "\u001b[1;31mPy4JJavaError\u001b[0m: An error occurred while calling z:org.apache.spark.api.python.PythonRDD.collectAndServe.\n: org.apache.spark.SparkException: Job aborted due to stage failure: Task 0 in stage 0.0 failed 1 times, most recent failure: Lost task 0.0 in stage 0.0 (TID 0) (LAPTOP-NS5CK02S executor driver): org.apache.spark.api.python.PythonException: Traceback (most recent call last):\n  File \"C:\\Program Files\\spark_unzipped\\spark-3.5.1-bin-hadoop3\\python\\lib\\pyspark.zip\\pyspark\\worker.py\", line 1100, in main\npyspark.errors.exceptions.base.PySparkRuntimeError: [PYTHON_VERSION_MISMATCH] Python in worker has different version (3, 10) than that in driver 3.9, PySpark cannot run with different minor versions.\nPlease check environment variables PYSPARK_PYTHON and PYSPARK_DRIVER_PYTHON are correctly set.\n\r\n\tat org.apache.spark.api.python.BasePythonRunner$ReaderIterator.handlePythonException(PythonRunner.scala:572)\r\n\tat org.apache.spark.api.python.PythonRunner$$anon$3.read(PythonRunner.scala:784)\r\n\tat org.apache.spark.api.python.PythonRunner$$anon$3.read(PythonRunner.scala:766)\r\n\tat org.apache.spark.api.python.BasePythonRunner$ReaderIterator.hasNext(PythonRunner.scala:525)\r\n\tat org.apache.spark.InterruptibleIterator.hasNext(InterruptibleIterator.scala:37)\r\n\tat scala.collection.Iterator$GroupedIterator.fill(Iterator.scala:1211)\r\n\tat scala.collection.Iterator$GroupedIterator.hasNext(Iterator.scala:1217)\r\n\tat scala.collection.Iterator$$anon$10.hasNext(Iterator.scala:460)\r\n\tat org.apache.spark.shuffle.sort.BypassMergeSortShuffleWriter.write(BypassMergeSortShuffleWriter.java:140)\r\n\tat org.apache.spark.shuffle.ShuffleWriteProcessor.write(ShuffleWriteProcessor.scala:59)\r\n\tat org.apache.spark.scheduler.ShuffleMapTask.runTask(ShuffleMapTask.scala:104)\r\n\tat org.apache.spark.scheduler.ShuffleMapTask.runTask(ShuffleMapTask.scala:54)\r\n\tat org.apache.spark.TaskContext.runTaskWithListeners(TaskContext.scala:166)\r\n\tat org.apache.spark.scheduler.Task.run(Task.scala:141)\r\n\tat org.apache.spark.executor.Executor$TaskRunner.$anonfun$run$4(Executor.scala:620)\r\n\tat org.apache.spark.util.SparkErrorUtils.tryWithSafeFinally(SparkErrorUtils.scala:64)\r\n\tat org.apache.spark.util.SparkErrorUtils.tryWithSafeFinally$(SparkErrorUtils.scala:61)\r\n\tat org.apache.spark.util.Utils$.tryWithSafeFinally(Utils.scala:94)\r\n\tat org.apache.spark.executor.Executor$TaskRunner.run(Executor.scala:623)\r\n\tat java.base/java.util.concurrent.ThreadPoolExecutor.runWorker(ThreadPoolExecutor.java:1136)\r\n\tat java.base/java.util.concurrent.ThreadPoolExecutor$Worker.run(ThreadPoolExecutor.java:635)\r\n\tat java.base/java.lang.Thread.run(Thread.java:842)\r\n\nDriver stacktrace:\r\n\tat org.apache.spark.scheduler.DAGScheduler.failJobAndIndependentStages(DAGScheduler.scala:2856)\r\n\tat org.apache.spark.scheduler.DAGScheduler.$anonfun$abortStage$2(DAGScheduler.scala:2792)\r\n\tat org.apache.spark.scheduler.DAGScheduler.$anonfun$abortStage$2$adapted(DAGScheduler.scala:2791)\r\n\tat scala.collection.mutable.ResizableArray.foreach(ResizableArray.scala:62)\r\n\tat scala.collection.mutable.ResizableArray.foreach$(ResizableArray.scala:55)\r\n\tat scala.collection.mutable.ArrayBuffer.foreach(ArrayBuffer.scala:49)\r\n\tat org.apache.spark.scheduler.DAGScheduler.abortStage(DAGScheduler.scala:2791)\r\n\tat org.apache.spark.scheduler.DAGScheduler.$anonfun$handleTaskSetFailed$1(DAGScheduler.scala:1247)\r\n\tat org.apache.spark.scheduler.DAGScheduler.$anonfun$handleTaskSetFailed$1$adapted(DAGScheduler.scala:1247)\r\n\tat scala.Option.foreach(Option.scala:407)\r\n\tat org.apache.spark.scheduler.DAGScheduler.handleTaskSetFailed(DAGScheduler.scala:1247)\r\n\tat org.apache.spark.scheduler.DAGSchedulerEventProcessLoop.doOnReceive(DAGScheduler.scala:3060)\r\n\tat org.apache.spark.scheduler.DAGSchedulerEventProcessLoop.onReceive(DAGScheduler.scala:2994)\r\n\tat org.apache.spark.scheduler.DAGSchedulerEventProcessLoop.onReceive(DAGScheduler.scala:2983)\r\n\tat org.apache.spark.util.EventLoop$$anon$1.run(EventLoop.scala:49)\r\n\tat org.apache.spark.scheduler.DAGScheduler.runJob(DAGScheduler.scala:989)\r\n\tat org.apache.spark.SparkContext.runJob(SparkContext.scala:2398)\r\n\tat org.apache.spark.SparkContext.runJob(SparkContext.scala:2419)\r\n\tat org.apache.spark.SparkContext.runJob(SparkContext.scala:2438)\r\n\tat org.apache.spark.SparkContext.runJob(SparkContext.scala:2463)\r\n\tat org.apache.spark.rdd.RDD.$anonfun$collect$1(RDD.scala:1049)\r\n\tat org.apache.spark.rdd.RDDOperationScope$.withScope(RDDOperationScope.scala:151)\r\n\tat org.apache.spark.rdd.RDDOperationScope$.withScope(RDDOperationScope.scala:112)\r\n\tat org.apache.spark.rdd.RDD.withScope(RDD.scala:410)\r\n\tat org.apache.spark.rdd.RDD.collect(RDD.scala:1048)\r\n\tat org.apache.spark.api.python.PythonRDD$.collectAndServe(PythonRDD.scala:195)\r\n\tat org.apache.spark.api.python.PythonRDD.collectAndServe(PythonRDD.scala)\r\n\tat java.base/jdk.internal.reflect.NativeMethodAccessorImpl.invoke0(Native Method)\r\n\tat java.base/jdk.internal.reflect.NativeMethodAccessorImpl.invoke(NativeMethodAccessorImpl.java:77)\r\n\tat java.base/jdk.internal.reflect.DelegatingMethodAccessorImpl.invoke(DelegatingMethodAccessorImpl.java:43)\r\n\tat java.base/java.lang.reflect.Method.invoke(Method.java:568)\r\n\tat py4j.reflection.MethodInvoker.invoke(MethodInvoker.java:244)\r\n\tat py4j.reflection.ReflectionEngine.invoke(ReflectionEngine.java:374)\r\n\tat py4j.Gateway.invoke(Gateway.java:282)\r\n\tat py4j.commands.AbstractCommand.invokeMethod(AbstractCommand.java:132)\r\n\tat py4j.commands.CallCommand.execute(CallCommand.java:79)\r\n\tat py4j.ClientServerConnection.waitForCommands(ClientServerConnection.java:182)\r\n\tat py4j.ClientServerConnection.run(ClientServerConnection.java:106)\r\n\tat java.base/java.lang.Thread.run(Thread.java:842)\r\nCaused by: org.apache.spark.api.python.PythonException: Traceback (most recent call last):\n  File \"C:\\Program Files\\spark_unzipped\\spark-3.5.1-bin-hadoop3\\python\\lib\\pyspark.zip\\pyspark\\worker.py\", line 1100, in main\npyspark.errors.exceptions.base.PySparkRuntimeError: [PYTHON_VERSION_MISMATCH] Python in worker has different version (3, 10) than that in driver 3.9, PySpark cannot run with different minor versions.\nPlease check environment variables PYSPARK_PYTHON and PYSPARK_DRIVER_PYTHON are correctly set.\n\r\n\tat org.apache.spark.api.python.BasePythonRunner$ReaderIterator.handlePythonException(PythonRunner.scala:572)\r\n\tat org.apache.spark.api.python.PythonRunner$$anon$3.read(PythonRunner.scala:784)\r\n\tat org.apache.spark.api.python.PythonRunner$$anon$3.read(PythonRunner.scala:766)\r\n\tat org.apache.spark.api.python.BasePythonRunner$ReaderIterator.hasNext(PythonRunner.scala:525)\r\n\tat org.apache.spark.InterruptibleIterator.hasNext(InterruptibleIterator.scala:37)\r\n\tat scala.collection.Iterator$GroupedIterator.fill(Iterator.scala:1211)\r\n\tat scala.collection.Iterator$GroupedIterator.hasNext(Iterator.scala:1217)\r\n\tat scala.collection.Iterator$$anon$10.hasNext(Iterator.scala:460)\r\n\tat org.apache.spark.shuffle.sort.BypassMergeSortShuffleWriter.write(BypassMergeSortShuffleWriter.java:140)\r\n\tat org.apache.spark.shuffle.ShuffleWriteProcessor.write(ShuffleWriteProcessor.scala:59)\r\n\tat org.apache.spark.scheduler.ShuffleMapTask.runTask(ShuffleMapTask.scala:104)\r\n\tat org.apache.spark.scheduler.ShuffleMapTask.runTask(ShuffleMapTask.scala:54)\r\n\tat org.apache.spark.TaskContext.runTaskWithListeners(TaskContext.scala:166)\r\n\tat org.apache.spark.scheduler.Task.run(Task.scala:141)\r\n\tat org.apache.spark.executor.Executor$TaskRunner.$anonfun$run$4(Executor.scala:620)\r\n\tat org.apache.spark.util.SparkErrorUtils.tryWithSafeFinally(SparkErrorUtils.scala:64)\r\n\tat org.apache.spark.util.SparkErrorUtils.tryWithSafeFinally$(SparkErrorUtils.scala:61)\r\n\tat org.apache.spark.util.Utils$.tryWithSafeFinally(Utils.scala:94)\r\n\tat org.apache.spark.executor.Executor$TaskRunner.run(Executor.scala:623)\r\n\tat java.base/java.util.concurrent.ThreadPoolExecutor.runWorker(ThreadPoolExecutor.java:1136)\r\n\tat java.base/java.util.concurrent.ThreadPoolExecutor$Worker.run(ThreadPoolExecutor.java:635)\r\n\t... 1 more\r\n"
          ]
        }
      ],
      "source": [
        "home_matches = pd.merge(goals_for_home, goals_against_home, left_on=['home_club_id', 'competition_id', 'season'], right_on=['home_club_id', 'competition_id', 'season'], how='outer').fillna(0)\n",
        "away_matches = pd.merge(goals_against_away, goals_for_away, left_on=['away_club_id', 'competition_id', 'season'], right_on=['away_club_id', 'competition_id', 'season'], how='outer').fillna(0)\n",
        "\n",
        "home_matches_key_value = [\n",
        "    ((row['home_club_id'], row['competition_id'], row['season']),\n",
        "    [row['home_club_goals'], row['away_club_goals']])\n",
        "    for index, row in home_matches.iterrows()\n",
        "]\n",
        "away_matches_key_value = [\n",
        "    ((row['away_club_id'], row['competition_id'], row['season']),\n",
        "    [row['away_club_goals'], row['home_club_goals']])\n",
        "    for index, row in away_matches.iterrows()\n",
        "]\n",
        "\n",
        "sc = SparkContext(\"local\", \"Soccer Stats\")\n",
        "rdd_home = sc.parallelize(home_matches_key_value)\n",
        "rdd_away = sc.parallelize(away_matches_key_value)\n",
        "\n",
        "def map_results(data):\n",
        "    try:\n",
        "        key , value = data\n",
        "        club_id, competition_id, season = key[0], key[1], key[2]\n",
        "        home_club_goals , away_club_goals = value[0] , value[1]\n",
        "        results = list(map(lambda x, y: x - y, home_club_goals, away_club_goals))\n",
        "        total_matches = len(results)\n",
        "        wins = sum(1 for result in results if result > 0)\n",
        "        losses = sum(1 for result in results if result < 0)\n",
        "        draws = sum(1 for result in results if result == 0)\n",
        "        return (club_id, competition_id, season), (total_matches, wins, losses, draws)\n",
        "    except ValueError as e:\n",
        "        print(f\"Error with data: {data}\")\n",
        "        raise e\n",
        "\n",
        "def reduce_results(a, b):\n",
        "    total_matches_a, wins_a, losses_a, draws_a = a\n",
        "    total_matches_b, wins_b, losses_b, draws_b = b\n",
        "    return (total_matches_a + total_matches_b, wins_a + wins_b, losses_a + losses_b, draws_a + draws_b)\n",
        "\n",
        "mapped_home = rdd_home.map(map_results)\n",
        "mapped_away = rdd_away.map(map_results)\n",
        "\n",
        "reduced_home = mapped_home.reduceByKey(reduce_results)\n",
        "reduced_away = mapped_away.reduceByKey(reduce_results)\n",
        "\n",
        "# Combining home and away results\n",
        "final_results = reduced_home.union(reduced_away).reduceByKey(reduce_results)\n",
        "\n",
        "# Collecting the results to the driver to see the output\n",
        "results = final_results.collect()\n",
        "\n",
        "# Populating dictionary after collecting results\n",
        "team_win_lose = {}\n",
        "for (key, value) in results:\n",
        "    team_win_lose[key] = value\n",
        "\n",
        "# Stopping Spark Context\n",
        "sc.stop()"
      ]
    },
    {
      "cell_type": "code",
      "execution_count": null,
      "metadata": {
        "id": "gdxF3GEJYV26"
      },
      "outputs": [],
      "source": [
        "sc.stop()"
      ]
    },
    {
      "cell_type": "markdown",
      "metadata": {
        "id": "HGmvj6vlg9sd"
      },
      "source": [
        "## Final club information"
      ]
    },
    {
      "cell_type": "code",
      "execution_count": null,
      "metadata": {
        "id": "ibqziVmfRD_S"
      },
      "outputs": [],
      "source": [
        "club_id = []\n",
        "season =  []\n",
        "competition_id = []\n",
        "matches_played = []\n",
        "wins = []\n",
        "draws = []\n",
        "losses = []\n",
        "\n",
        "for key, value in team_win_lose.items():\n",
        "    club_id.append(key[0])\n",
        "    competition_id.append(key[1])\n",
        "    season.append(key[2])\n",
        "    matches_played.append(value[0])\n",
        "    wins.append(value[1])\n",
        "    losses.append(value[2])\n",
        "    draws.append(value[3])\n",
        "\n",
        "new_df = pd.DataFrame({\n",
        "    'club_id': club_id,\n",
        "    'season': season,\n",
        "    'competition_id': competition_id,\n",
        "    'matches_played': matches_played,\n",
        "    'wins': wins,\n",
        "    'draws': draws,\n",
        "    'losses': losses\n",
        "})\n",
        "final_club_information = pd.merge(total_goals_info, new_df, on = ['club_id','season', 'competition_id'])"
      ]
    },
    {
      "cell_type": "markdown",
      "metadata": {
        "id": "M0R5PRzTgnZB"
      },
      "source": [
        "## Adding label"
      ]
    },
    {
      "cell_type": "code",
      "execution_count": null,
      "metadata": {
        "colab": {
          "base_uri": "https://localhost:8080/"
        },
        "id": "qn-iWqzhGuRU",
        "outputId": "5ceefcaa-794a-47d5-bf88-d4fefd7b57d9"
      },
      "outputs": [
        {
          "name": "stdout",
          "output_type": "stream",
          "text": [
            "      club_id  season competition_id  GS  GC  GD  matches_played  wins  draws  \\\n",
            "0           3    2014             L1  34  40  -6              34     9     13   \n",
            "1           3    2015             L1  38  42  -4              34    10     13   \n",
            "2           3    2016             L1  51  42   9              34    12     13   \n",
            "3           3    2017             L1  35  70 -35              34     5      7   \n",
            "4           3    2019             L1  51  69 -18              34    10      6   \n",
            "...       ...     ...            ...  ..  ..  ..             ...   ...    ...   \n",
            "1672    68608    2013            PO1  19  33 -14              30     6     10   \n",
            "1673    68608    2014            PO1  34  35  -1              34    12     12   \n",
            "1674    68608    2015            PO1  44  66 -22              34    10     11   \n",
            "1675    68608    2016            PO1  27  45 -18              34     9      9   \n",
            "1676    68608    2017            PO1  33  46 -13              34     9     10   \n",
            "\n",
            "      losses  champion  \n",
            "0         12         0  \n",
            "1         11         0  \n",
            "2          9         0  \n",
            "3         22         0  \n",
            "4         18         0  \n",
            "...      ...       ...  \n",
            "1672      14         0  \n",
            "1673      10         0  \n",
            "1674      13         0  \n",
            "1675      16         0  \n",
            "1676      15         0  \n",
            "\n",
            "[1677 rows x 11 columns]\n"
          ]
        }
      ],
      "source": [
        "## Each element is array is a tuple (club_id , season)\n",
        "champions = {\n",
        "    \"L1\": [(27, 2012), (27, 2013), (27, 2014), (27, 2015), (27, 2016), (27, 2017), (27, 2018), (27, 2019), (27, 2020), (27, 2021)],\n",
        "    \"NL1\": [(610, 2012), (610, 2013), (383, 2014), (383, 2015), (234, 2016), (383, 2017), (610, 2018), (610, 2019), (610, 2020), (610, 2021)],\n",
        "    \"ES1\": [(714, 2012), (13, 2013), (714, 2014), (714, 2015), (418, 2016), (714, 2017), (714, 2018), (418, 2019), (13, 2020), (418, 2021)],\n",
        "    \"PO1\": [(720, 2012), (294, 2013), (294, 2014), (294, 2015), (294, 2016), (720, 2017), (294, 2018), (720, 2019), (336, 2020), (720, 2021)],\n",
        "    \"FR1\": [(583, 2012), (583, 2013), (583, 2014), (583, 2015), (162, 2016), (583, 2017), (583, 2018), (583, 2019), (1082, 2020), (583, 2021)],\n",
        "    \"GB1\": [(985, 2012), (281, 2013), (631, 2014), (1003, 2015), (631, 2016), (281, 2017), (281, 2018), (31, 2019), (281, 2020), (281, 2021)],\n",
        "    \"IT1\": [(506, 2012), (506, 2013), (506, 2014), (506, 2015), (506, 2016), (506, 2017), (506, 2018), (506, 2019), (46, 2020), (5, 2021)],\n",
        "    \"TR1\": [(141, 2012), (36, 2013), (141, 2014), (114, 2015), (114, 2016), (141, 2017), (141, 2018), (6890, 2019), (114, 2020), (449, 2021)]\n",
        "}\n",
        "def is_champion(row):\n",
        "    competition = row['competition_id']\n",
        "    club_id = row['club_id']\n",
        "    season = row['season']\n",
        "    # Check if the competition is in the dictionary and if the (club_id, season) tuple is in the list for that competition\n",
        "    if competition in champions and (club_id, season) in champions[competition]:\n",
        "        return 1\n",
        "    else:\n",
        "        return 0\n",
        "\n",
        "# Apply the function to each row\n",
        "final_club_information['champion'] = final_club_information.apply(is_champion, axis=1)\n",
        "\n",
        "print(final_club_information)"
      ]
    },
    {
      "cell_type": "markdown",
      "metadata": {
        "id": "eDClunCgJcs6"
      },
      "source": [
        "## Add Feature Engineering"
      ]
    },
    {
      "cell_type": "code",
      "execution_count": null,
      "metadata": {
        "id": "xn6jnD6_JhPg"
      },
      "outputs": [],
      "source": [
        "def Extract_Feature_Engineering(final_club_information):\n",
        "    final_club_information['win_match_ratio'] = (final_club_information['wins'] + 1)/ final_club_information['matches_played']\n",
        "\n",
        "    final_club_information['gs_match_ratio'] = (final_club_information['GS'] + 1)/ final_club_information['matches_played']\n",
        "\n",
        "    final_club_information['gc_match_ratio'] = (final_club_information['GC'] + 1)/ final_club_information['matches_played']\n",
        "\n",
        "    final_club_information['win_gs_ratio'] = (final_club_information['wins'] + 1)/(final_club_information['GS'] + 1)\n",
        "\n",
        "    final_club_information['win_lost_ratio'] = (final_club_information['wins'] + 1)/(final_club_information['losses'] + 1)\n",
        "\n",
        "    final_club_information['gs_gc'] = (final_club_information['GD']) + 0.1\n",
        "\n",
        "    final_club_information['wins_draws_ratio'] = (final_club_information['wins'] +  1) / (final_club_information['draws'] + 1)\n",
        "\n",
        "    final_club_information['gs_gd'] = (final_club_information['GS'] + 1) + (final_club_information['GD'])\n",
        "\n",
        "Extract_Feature_Engineering(final_club_information)\n",
        "print(final_club_information)\n"
      ]
    },
    {
      "cell_type": "markdown",
      "metadata": {
        "id": "0zlct7dpRx6b"
      },
      "source": [
        "## Remove unwanted features\n"
      ]
    },
    {
      "cell_type": "code",
      "execution_count": null,
      "metadata": {
        "colab": {
          "base_uri": "https://localhost:8080/"
        },
        "id": "7rQlo_HOR4di",
        "outputId": "9d7eff87-b370-4df1-e847-c33da25cbabf"
      },
      "outputs": [
        {
          "name": "stdout",
          "output_type": "stream",
          "text": [
            "      club_id  season competition_id  GS  GC  GD  matches_played  wins  draws  \\\n",
            "0           3    2014             L1  34  40  -6              34     9     13   \n",
            "1           3    2015             L1  38  42  -4              34    10     13   \n",
            "2           3    2016             L1  51  42   9              34    12     13   \n",
            "3           3    2017             L1  35  70 -35              34     5      7   \n",
            "4           3    2019             L1  51  69 -18              34    10      6   \n",
            "...       ...     ...            ...  ..  ..  ..             ...   ...    ...   \n",
            "1672    68608    2013            PO1  19  33 -14              30     6     10   \n",
            "1673    68608    2014            PO1  34  35  -1              34    12     12   \n",
            "1674    68608    2015            PO1  44  66 -22              34    10     11   \n",
            "1675    68608    2016            PO1  27  45 -18              34     9      9   \n",
            "1676    68608    2017            PO1  33  46 -13              34     9     10   \n",
            "\n",
            "      losses  champion  win_match_ratio  gs_match_ratio  gc_match_ratio  \\\n",
            "0         12         0         0.294118        1.029412        1.205882   \n",
            "1         11         0         0.323529        1.147059        1.264706   \n",
            "2          9         0         0.382353        1.529412        1.264706   \n",
            "3         22         0         0.176471        1.058824        2.088235   \n",
            "4         18         0         0.323529        1.529412        2.058824   \n",
            "...      ...       ...              ...             ...             ...   \n",
            "1672      14         0         0.233333        0.666667        1.133333   \n",
            "1673      10         0         0.382353        1.029412        1.058824   \n",
            "1674      13         0         0.323529        1.323529        1.970588   \n",
            "1675      16         0         0.294118        0.823529        1.352941   \n",
            "1676      15         0         0.294118        1.000000        1.382353   \n",
            "\n",
            "      win_gs_ratio  win_lost_ratio  gs_gc  wins_draws_ratio  gs_gd  \n",
            "0         0.285714        0.769231   -5.9          0.714286     29  \n",
            "1         0.282051        0.916667   -3.9          0.785714     35  \n",
            "2         0.250000        1.300000    9.1          0.928571     61  \n",
            "3         0.166667        0.260870  -34.9          0.750000      1  \n",
            "4         0.211538        0.578947  -17.9          1.571429     34  \n",
            "...            ...             ...    ...               ...    ...  \n",
            "1672      0.350000        0.466667  -13.9          0.636364      6  \n",
            "1673      0.371429        1.181818   -0.9          1.000000     34  \n",
            "1674      0.244444        0.785714  -21.9          0.916667     23  \n",
            "1675      0.357143        0.588235  -17.9          1.000000     10  \n",
            "1676      0.294118        0.625000  -12.9          0.909091     21  \n",
            "\n",
            "[1677 rows x 19 columns]\n"
          ]
        }
      ],
      "source": [
        "x = final_club_information.drop(['season', 'competition_id','club_id','champion'], axis = 1, inplace = False)\n",
        "y = final_club_information['champion']"
      ]
    },
    {
      "cell_type": "markdown",
      "metadata": {
        "id": "_tDfMSlFZZ1X"
      },
      "source": [
        "## MI_SCORE\n"
      ]
    },
    {
      "cell_type": "code",
      "execution_count": null,
      "metadata": {
        "colab": {
          "base_uri": "https://localhost:8080/",
          "height": 452
        },
        "id": "vHBZb6hzXUwI",
        "outputId": "1dffec57-1259-45dc-cb6f-96102b21c1c6"
      },
      "outputs": [
        {
          "data": {
            "image/png": "[encoded data removed]",
            "text/plain": [
              "<Figure size 640x480 with 1 Axes>"
            ]
          },
          "metadata": {},
          "output_type": "display_data"
        }
      ],
      "source": [
        "def make_mi_scores(X, y):\n",
        "    mi_scores = mutual_info_regression(X, y)\n",
        "    mi_scores = pd.Series(mi_scores, name=\"MI Scores\", index=X.columns)\n",
        "    mi_scores = mi_scores.sort_values(ascending=False)\n",
        "    return mi_scores\n",
        "\n",
        "def plot_mi_scores(scores):\n",
        "    scores = scores.sort_values(ascending=True)\n",
        "    width = np.arange(len(scores))\n",
        "    ticks = list(scores.index)\n",
        "    plt.barh(width, scores)\n",
        "    plt.yticks(width, ticks)\n",
        "    plt.title(\"Mutual Information Scores\")\n",
        "\n",
        "mi_score=make_mi_scores(x,y)\n",
        "plot_mi_scores(mi_score)"
      ]
    },
    {
      "cell_type": "markdown",
      "metadata": {
        "id": "1sttyiMhdKBk"
      },
      "source": [
        "## Smote For Balancing Data"
      ]
    },
    {
      "cell_type": "code",
      "execution_count": null,
      "metadata": {
        "colab": {
          "base_uri": "https://localhost:8080/"
        },
        "id": "4FyRZyVsdO3L",
        "outputId": "77cabf42-5dde-4183-ccdf-a598c750071c"
      },
      "outputs": [
        {
          "data": {
            "image/png": "[encoded data removed]",
            "text/plain": [
              "<Figure size 640x480 with 1 Axes>"
            ]
          },
          "metadata": {},
          "output_type": "display_data"
        }
      ],
      "source": [
        "smote = SMOTE()\n",
        "x_sm, y_sm = smote.fit_resample(x, y)\n",
        "pd.DataFrame(y_sm).champion.value_counts().plot(kind = 'bar')"
      ]
    },
    {
      "cell_type": "markdown",
      "metadata": {
        "id": "YVJqw_NDd1Gj"
      },
      "source": [
        "## splitting into train and test set Percentage 75% to 25%\n"
      ]
    },
    {
      "cell_type": "code",
      "execution_count": null,
      "metadata": {
        "id": "OOPUeDyNeZSi"
      },
      "outputs": [],
      "source": [
        "x_train,x_test,y_train,y_test = train_test_split(x_sm, y_sm,random_state = 42)"
      ]
    },
    {
      "cell_type": "markdown",
      "metadata": {
        "id": "cnMZrCcde8My"
      },
      "source": [
        "## Classification_Report"
      ]
    },
    {
      "cell_type": "code",
      "execution_count": null,
      "metadata": {
        "id": "G2a3-3RHfDFy"
      },
      "outputs": [],
      "source": [
        "def report(classifier, x_test=x_test, y_test=y_test):\n",
        "    print(\"Classification Report: \\n\")\n",
        "    y_preds = classifier.predict(x_test)\n",
        "    print(classification_report(y_test, y_preds))\n",
        "\n",
        "    print(\"Confusion Matrix: \\n\")\n",
        "    # Calculate confusion matrix and then use ConfusionMatrixDisplay\n",
        "    cm = confusion_matrix(y_test, y_preds)\n",
        "    disp = ConfusionMatrixDisplay(confusion_matrix=cm)\n",
        "    disp.plot(cmap=plt.cm.Blues)\n",
        "    plt.show()\n",
        "\n",
        "    print(\"ROC: \\n\")\n",
        "    # Calculate ROC curve and then use RocCurveDisplay\n",
        "    fpr, tpr, _ = roc_curve(y_test, classifier.predict_proba(x_test)[:, 1])\n",
        "    roc_disp = RocCurveDisplay(fpr=fpr, tpr=tpr)\n",
        "    roc_disp.plot()\n",
        "    plt.plot([0, 1], [0, 1], color='red', linestyle='--')\n",
        "    plt.show()\n"
      ]
    },
    {
      "cell_type": "markdown",
      "metadata": {
        "id": "ODAtoAVGjp_J"
      },
      "source": [
        "## Modeling"
      ]
    },
    {
      "cell_type": "markdown",
      "metadata": {
        "id": "i8XhplLVjtnP"
      },
      "source": [
        "## Logistic_Regression"
      ]
    },
    {
      "cell_type": "code",
      "execution_count": null,
      "metadata": {
        "colab": {
          "base_uri": "https://localhost:8080/"
        },
        "id": "R68rwF4YlRi3",
        "outputId": "ee1aadf7-9243-43e1-9292-11a44edc594c"
      },
      "outputs": [
        {
          "name": "stderr",
          "output_type": "stream",
          "text": [
            "/usr/local/lib/python3.10/dist-packages/sklearn/svm/_base.py:1244: ConvergenceWarning: Liblinear failed to converge, increase the number of iterations.\n",
            "  warnings.warn(\n",
            "/usr/local/lib/python3.10/dist-packages/sklearn/svm/_base.py:1244: ConvergenceWarning: Liblinear failed to converge, increase the number of iterations.\n",
            "  warnings.warn(\n",
            "/usr/local/lib/python3.10/dist-packages/sklearn/svm/_base.py:1244: ConvergenceWarning: Liblinear failed to converge, increase the number of iterations.\n",
            "  warnings.warn(\n",
            "/usr/local/lib/python3.10/dist-packages/sklearn/svm/_base.py:1244: ConvergenceWarning: Liblinear failed to converge, increase the number of iterations.\n",
            "  warnings.warn(\n",
            "/usr/local/lib/python3.10/dist-packages/sklearn/svm/_base.py:1244: ConvergenceWarning: Liblinear failed to converge, increase the number of iterations.\n",
            "  warnings.warn(\n",
            "/usr/local/lib/python3.10/dist-packages/sklearn/svm/_base.py:1244: ConvergenceWarning: Liblinear failed to converge, increase the number of iterations.\n",
            "  warnings.warn(\n",
            "/usr/local/lib/python3.10/dist-packages/sklearn/svm/_base.py:1244: ConvergenceWarning: Liblinear failed to converge, increase the number of iterations.\n",
            "  warnings.warn(\n",
            "/usr/local/lib/python3.10/dist-packages/sklearn/svm/_base.py:1244: ConvergenceWarning: Liblinear failed to converge, increase the number of iterations.\n",
            "  warnings.warn(\n",
            "/usr/local/lib/python3.10/dist-packages/sklearn/svm/_base.py:1244: ConvergenceWarning: Liblinear failed to converge, increase the number of iterations.\n",
            "  warnings.warn(\n",
            "/usr/local/lib/python3.10/dist-packages/sklearn/svm/_base.py:1244: ConvergenceWarning: Liblinear failed to converge, increase the number of iterations.\n",
            "  warnings.warn(\n",
            "/usr/local/lib/python3.10/dist-packages/sklearn/svm/_base.py:1244: ConvergenceWarning: Liblinear failed to converge, increase the number of iterations.\n",
            "  warnings.warn(\n",
            "/usr/local/lib/python3.10/dist-packages/sklearn/svm/_base.py:1244: ConvergenceWarning: Liblinear failed to converge, increase the number of iterations.\n",
            "  warnings.warn(\n",
            "/usr/local/lib/python3.10/dist-packages/sklearn/svm/_base.py:1244: ConvergenceWarning: Liblinear failed to converge, increase the number of iterations.\n",
            "  warnings.warn(\n",
            "/usr/local/lib/python3.10/dist-packages/sklearn/svm/_base.py:1244: ConvergenceWarning: Liblinear failed to converge, increase the number of iterations.\n",
            "  warnings.warn(\n",
            "/usr/local/lib/python3.10/dist-packages/sklearn/svm/_base.py:1244: ConvergenceWarning: Liblinear failed to converge, increase the number of iterations.\n",
            "  warnings.warn(\n",
            "/usr/local/lib/python3.10/dist-packages/sklearn/svm/_base.py:1244: ConvergenceWarning: Liblinear failed to converge, increase the number of iterations.\n",
            "  warnings.warn(\n",
            "/usr/local/lib/python3.10/dist-packages/sklearn/svm/_base.py:1244: ConvergenceWarning: Liblinear failed to converge, increase the number of iterations.\n",
            "  warnings.warn(\n",
            "/usr/local/lib/python3.10/dist-packages/sklearn/svm/_base.py:1244: ConvergenceWarning: Liblinear failed to converge, increase the number of iterations.\n",
            "  warnings.warn(\n",
            "/usr/local/lib/python3.10/dist-packages/sklearn/svm/_base.py:1244: ConvergenceWarning: Liblinear failed to converge, increase the number of iterations.\n",
            "  warnings.warn(\n",
            "/usr/local/lib/python3.10/dist-packages/sklearn/svm/_base.py:1244: ConvergenceWarning: Liblinear failed to converge, increase the number of iterations.\n",
            "  warnings.warn(\n",
            "/usr/local/lib/python3.10/dist-packages/sklearn/svm/_base.py:1244: ConvergenceWarning: Liblinear failed to converge, increase the number of iterations.\n",
            "  warnings.warn(\n",
            "/usr/local/lib/python3.10/dist-packages/sklearn/svm/_base.py:1244: ConvergenceWarning: Liblinear failed to converge, increase the number of iterations.\n",
            "  warnings.warn(\n",
            "/usr/local/lib/python3.10/dist-packages/sklearn/svm/_base.py:1244: ConvergenceWarning: Liblinear failed to converge, increase the number of iterations.\n",
            "  warnings.warn(\n",
            "/usr/local/lib/python3.10/dist-packages/sklearn/svm/_base.py:1244: ConvergenceWarning: Liblinear failed to converge, increase the number of iterations.\n",
            "  warnings.warn(\n",
            "/usr/local/lib/python3.10/dist-packages/sklearn/svm/_base.py:1244: ConvergenceWarning: Liblinear failed to converge, increase the number of iterations.\n",
            "  warnings.warn(\n",
            "/usr/local/lib/python3.10/dist-packages/sklearn/svm/_base.py:1244: ConvergenceWarning: Liblinear failed to converge, increase the number of iterations.\n",
            "  warnings.warn(\n",
            "/usr/local/lib/python3.10/dist-packages/sklearn/svm/_base.py:1244: ConvergenceWarning: Liblinear failed to converge, increase the number of iterations.\n",
            "  warnings.warn(\n",
            "/usr/local/lib/python3.10/dist-packages/sklearn/svm/_base.py:1244: ConvergenceWarning: Liblinear failed to converge, increase the number of iterations.\n",
            "  warnings.warn(\n",
            "/usr/local/lib/python3.10/dist-packages/sklearn/svm/_base.py:1244: ConvergenceWarning: Liblinear failed to converge, increase the number of iterations.\n",
            "  warnings.warn(\n",
            "/usr/local/lib/python3.10/dist-packages/sklearn/svm/_base.py:1244: ConvergenceWarning: Liblinear failed to converge, increase the number of iterations.\n",
            "  warnings.warn(\n",
            "/usr/local/lib/python3.10/dist-packages/sklearn/svm/_base.py:1244: ConvergenceWarning: Liblinear failed to converge, increase the number of iterations.\n",
            "  warnings.warn(\n",
            "/usr/local/lib/python3.10/dist-packages/sklearn/svm/_base.py:1244: ConvergenceWarning: Liblinear failed to converge, increase the number of iterations.\n",
            "  warnings.warn(\n",
            "/usr/local/lib/python3.10/dist-packages/sklearn/svm/_base.py:1244: ConvergenceWarning: Liblinear failed to converge, increase the number of iterations.\n",
            "  warnings.warn(\n",
            "/usr/local/lib/python3.10/dist-packages/sklearn/svm/_base.py:1244: ConvergenceWarning: Liblinear failed to converge, increase the number of iterations.\n",
            "  warnings.warn(\n",
            "/usr/local/lib/python3.10/dist-packages/sklearn/svm/_base.py:1244: ConvergenceWarning: Liblinear failed to converge, increase the number of iterations.\n",
            "  warnings.warn(\n",
            "/usr/local/lib/python3.10/dist-packages/sklearn/svm/_base.py:1244: ConvergenceWarning: Liblinear failed to converge, increase the number of iterations.\n",
            "  warnings.warn(\n",
            "/usr/local/lib/python3.10/dist-packages/sklearn/svm/_base.py:1244: ConvergenceWarning: Liblinear failed to converge, increase the number of iterations.\n",
            "  warnings.warn(\n",
            "/usr/local/lib/python3.10/dist-packages/sklearn/svm/_base.py:1244: ConvergenceWarning: Liblinear failed to converge, increase the number of iterations.\n",
            "  warnings.warn(\n",
            "/usr/local/lib/python3.10/dist-packages/sklearn/svm/_base.py:1244: ConvergenceWarning: Liblinear failed to converge, increase the number of iterations.\n",
            "  warnings.warn(\n",
            "/usr/local/lib/python3.10/dist-packages/sklearn/svm/_base.py:1244: ConvergenceWarning: Liblinear failed to converge, increase the number of iterations.\n",
            "  warnings.warn(\n"
          ]
        },
        {
          "name": "stdout",
          "output_type": "stream",
          "text": [
            "Best max_iter:  150\n",
            "Best cross-validation score: 0.98\n"
          ]
        }
      ],
      "source": [
        "log_clf = LogisticRegression(C=5.428675439323859,\n",
        "                            penalty='l1',\n",
        "                            solver='liblinear',\n",
        "                            random_state=41)\n",
        "\n",
        "param_grid = {\n",
        "    'max_iter': [10, 50, 100, 150, 200]  # Adjust this list based on your needs and computational budget\n",
        "}\n",
        "\n",
        "grid_search = GridSearchCV(log_clf, param_grid, cv=10, scoring='accuracy')\n",
        "grid_search.fit(x_train, y_train)\n",
        "\n",
        "print(\"Best max_iter: \", grid_search.best_params_['max_iter'])\n",
        "print(\"Best cross-validation score: {:.2f}\".format(grid_search.best_score_))"
      ]
    },
    {
      "cell_type": "code",
      "execution_count": null,
      "metadata": {
        "colab": {
          "base_uri": "https://localhost:8080/"
        },
        "id": "0Dcvwr9LfgAB",
        "outputId": "9010cdeb-50c7-4579-bf17-d7badefc1faf"
      },
      "outputs": [
        {
          "name": "stderr",
          "output_type": "stream",
          "text": [
            "/usr/local/lib/python3.10/dist-packages/sklearn/svm/_base.py:1244: ConvergenceWarning: Liblinear failed to converge, increase the number of iterations.\n",
            "  warnings.warn(\n",
            "/usr/local/lib/python3.10/dist-packages/sklearn/svm/_base.py:1244: ConvergenceWarning: Liblinear failed to converge, increase the number of iterations.\n",
            "  warnings.warn(\n",
            "/usr/local/lib/python3.10/dist-packages/sklearn/svm/_base.py:1244: ConvergenceWarning: Liblinear failed to converge, increase the number of iterations.\n",
            "  warnings.warn(\n",
            "/usr/local/lib/python3.10/dist-packages/sklearn/svm/_base.py:1244: ConvergenceWarning: Liblinear failed to converge, increase the number of iterations.\n",
            "  warnings.warn(\n",
            "/usr/local/lib/python3.10/dist-packages/sklearn/svm/_base.py:1244: ConvergenceWarning: Liblinear failed to converge, increase the number of iterations.\n",
            "  warnings.warn(\n",
            "/usr/local/lib/python3.10/dist-packages/sklearn/svm/_base.py:1244: ConvergenceWarning: Liblinear failed to converge, increase the number of iterations.\n",
            "  warnings.warn(\n"
          ]
        },
        {
          "name": "stdout",
          "output_type": "stream",
          "text": [
            "LR Score:  0.977039748953975\n"
          ]
        },
        {
          "name": "stderr",
          "output_type": "stream",
          "text": [
            "/usr/local/lib/python3.10/dist-packages/sklearn/svm/_base.py:1244: ConvergenceWarning: Liblinear failed to converge, increase the number of iterations.\n",
            "  warnings.warn(\n"
          ]
        }
      ],
      "source": [
        "log_clf = LogisticRegression(max_iter = 150,\n",
        "                             C = 5.428675439323859,\n",
        "                             penalty='l1',\n",
        "                             solver='liblinear',\n",
        "                             random_state = 41).fit(x_train, y_train)\n",
        "\n",
        "cv_lr = cross_val_score(log_clf, x_train, y_train, cv = 10)\n",
        "lr_score = np.mean(cv_lr)\n",
        "print(\"LR Score: \", lr_score)"
      ]
    },
    {
      "cell_type": "code",
      "execution_count": null,
      "metadata": {
        "colab": {
          "base_uri": "https://localhost:8080/",
          "height": 1000
        },
        "id": "X-ukWU3vnss9",
        "outputId": "67695fee-8301-464e-a59a-21ce58a88ef3"
      },
      "outputs": [
        {
          "name": "stdout",
          "output_type": "stream",
          "text": [
            "Classification Report: \n",
            "\n",
            "              precision    recall  f1-score   support\n",
            "\n",
            "           0       0.97      0.97      0.97       410\n",
            "           1       0.97      0.97      0.97       389\n",
            "\n",
            "    accuracy                           0.97       799\n",
            "   macro avg       0.97      0.97      0.97       799\n",
            "weighted avg       0.97      0.97      0.97       799\n",
            "\n",
            "Confusion Matrix: \n",
            "\n"
          ]
        },
        {
          "data": {
            "image/png": "[encoded data removed]",
            "text/plain": [
              "<Figure size 640x480 with 2 Axes>"
            ]
          },
          "metadata": {},
          "output_type": "display_data"
        },
        {
          "name": "stdout",
          "output_type": "stream",
          "text": [
            "ROC: \n",
            "\n"
          ]
        },
        {
          "data": {
            "image/png": "[encoded data removed]",
            "text/plain": [
              "<Figure size 640x480 with 1 Axes>"
            ]
          },
          "metadata": {},
          "output_type": "display_data"
        }
      ],
      "source": [
        "report(log_clf)"
      ]
    },
    {
      "cell_type": "markdown",
      "metadata": {
        "id": "iTx-Ky9LV7o0"
      },
      "source": [
        "## Create Single DataFrame"
      ]
    },
    {
      "cell_type": "code",
      "execution_count": null,
      "metadata": {
        "id": "U0UEzxuWWAqc"
      },
      "outputs": [],
      "source": [
        "def Create_Single_DataFrame(UserInput):\n",
        "    data = {\n",
        "        'club_id': [UserInput[0]],\n",
        "        'season': [UserInput[1]],  # Assuming 'None' where the data is missing\n",
        "        'competition_id': [UserInput[2]],\n",
        "        'GS': [UserInput[3]],  # Goals Scored\n",
        "        'GC': [UserInput[4]],  # Goals Conceded\n",
        "        'GD': [UserInput[5]],  # Goal Difference\n",
        "        'matches_played': [UserInput[6]],\n",
        "        'wins': [UserInput[7]],  # Wins\n",
        "        'draws': [UserInput[8]],  # Draws\n",
        "        'losses': [UserInput[9]]  # Losses\n",
        "    }\n",
        "\n",
        "    # Create DataFrame\n",
        "    df = pd.DataFrame(data)\n",
        "    return df"
      ]
    },
    {
      "cell_type": "markdown",
      "metadata": {
        "id": "VNhehlkcQ8VB"
      },
      "source": [
        "## Single Prediction\n",
        "\n"
      ]
    },
    {
      "cell_type": "code",
      "execution_count": null,
      "metadata": {
        "colab": {
          "base_uri": "https://localhost:8080/"
        },
        "id": "eM_aIi_dRJkX",
        "outputId": "75b3a115-9e86-42ef-e5ac-26af476af886"
      },
      "outputs": [
        {
          "name": "stdout",
          "output_type": "stream",
          "text": [
            "[1]\n"
          ]
        }
      ],
      "source": [
        "UserInput=[31,2023,'GB1',72,29,43,30,23,4,3]\n",
        "\n",
        "User_Input_Df=Create_Single_DataFrame(UserInput)\n",
        "\n",
        "Extract_Feature_Engineering(User_Input_Df)\n",
        "x = User_Input_Df.drop(['season', 'competition_id','club_id'], axis = 1, inplace = False)\n",
        "\n",
        "print(log_clf.predict(x))"
      ]
    },
    {
      "cell_type": "markdown",
      "metadata": {
        "id": "xrJXCdanMhIK"
      },
      "source": [
        "## Testing"
      ]
    },
    {
      "cell_type": "code",
      "execution_count": null,
      "metadata": {
        "id": "iLfhD3yAIYbF"
      },
      "outputs": [],
      "source": [
        "competition_id_value = 'GB1'  # Set your competition ID\n",
        "season_id_value = 2012  # Set your season ID as an integer\n",
        "filtered_df = final_club_information[(final_club_information['competition_id'] == competition_id_value) &\n",
        "                (final_club_information['season'] == season_id_value)]\n",
        "\n",
        "print(filtered_df)"
      ]
    },
    {
      "cell_type": "code",
      "execution_count": null,
      "metadata": {
        "id": "2KWJEzskHBDl"
      },
      "outputs": [],
      "source": [
        "competition_id_value = 'ES1'  # Set your competition ID\n",
        "season_id_value = 2018  # Set your season ID as an integer\n",
        "\n",
        "filtered_df = final_club_information[(final_club_information['competition_id'] == competition_id_value) &\n",
        "                (final_club_information['season'] == season_id_value)]\n",
        "print(filtered_df)"
      ]
    }
  ],
  "metadata": {
    "colab": {
      "collapsed_sections": [
        "ZKFFY3jUTo3B",
        "1sttyiMhdKBk"
      ],
      "provenance": []
    },
    "kernelspec": {
      "display_name": "Python 3",
      "name": "python3"
    },
    "language_info": {
      "codemirror_mode": {
        "name": "ipython",
        "version": 3
      },
      "file_extension": ".py",
      "mimetype": "text/x-python",
      "name": "python",
      "nbconvert_exporter": "python",
      "pygments_lexer": "ipython3",
      "version": "3.9.18"
    }
  },
  "nbformat": 4,
  "nbformat_minor": 0
}
